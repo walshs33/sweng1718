{
 "cells": [
  {
   "cell_type": "code",
   "execution_count": 1,
   "metadata": {},
   "outputs": [
    {
     "ename": "SyntaxError",
     "evalue": "invalid syntax (<ipython-input-1-7d0045bac513>, line 15)",
     "output_type": "error",
     "traceback": [
      "\u001b[0;36m  File \u001b[0;32m\"<ipython-input-1-7d0045bac513>\"\u001b[0;36m, line \u001b[0;32m15\u001b[0m\n\u001b[0;31m    def makeChart( xdat, ydat )\u001b[0m\n\u001b[0m                               ^\u001b[0m\n\u001b[0;31mSyntaxError\u001b[0m\u001b[0;31m:\u001b[0m invalid syntax\n"
     ]
    }
   ],
   "source": [
    "import numpy as np\n",
    "import nvd3\n",
    "from github import Github\n",
    "from IPython.display import display, HTML\n",
    "\n",
    "import getpass\n",
    "\n",
    "#function to return length of paginatedList, whatever the hell that is\n",
    "def paginatedLen( list ):\n",
    "    a = 0\n",
    "    for l in list:\n",
    "        a = a + 1\n",
    "    return a;\n",
    "\n",
    "def makeChart( xdat, ydat ):\n",
    "    chart_type = 'pieChart'\n",
    "    chart = nvd3.pieChart(name = chart_type, color_category = 'category20c', height = 450, width = 450)\n",
    "    chart.add_serie(y=ydat, x=xdat)\n",
    "    chart.buildhtml()\n",
    "    chart_html = chart.htmlcontent\n",
    "    display(HTML(chart_html))\n",
    "    return;\n",
    "\n",
    "#user input\n",
    "username = \"walshs33\"\n",
    "pword = getpass.getpass(\"password: \")\n",
    "reponame = raw_input(\"repo: \")\n",
    "\n",
    "#init git\n",
    "g = Github(username, pword)\n",
    "\n",
    "#get contributors\n",
    "for repo in g.get_user().get_repos():\n",
    "    if repo.full_name == reponame\n",
    "        contributors = repo.get_contributors()\n",
    "        xdata = []\n",
    "        for contributor in contributors:\n",
    "            xdata.insert(len(xdata), contributor.name)\n",
    "        #xdata = contributors\n",
    "        a = []\n",
    "        #get commit count per contributor\n",
    "        for contributor in contributors:\n",
    "            commits = repo.get_commits(author=contributor)\n",
    "            a.insert(len(a), paginatedLen(commits))\n",
    "\n",
    "        makeChart( xdat = xdata, ydat = a )\n"
   ]
  },
  {
   "cell_type": "code",
   "execution_count": null,
   "metadata": {},
   "outputs": [],
   "source": []
  }
 ],
 "metadata": {
  "kernelspec": {
   "display_name": "Python 3",
   "language": "python",
   "name": "python3"
  },
  "language_info": {
   "codemirror_mode": {
    "name": "ipython",
    "version": 3
   },
   "file_extension": ".py",
   "mimetype": "text/x-python",
   "name": "python",
   "nbconvert_exporter": "python",
   "pygments_lexer": "ipython3",
   "version": "3.4.3"
  }
 },
 "nbformat": 4,
 "nbformat_minor": 2
}
